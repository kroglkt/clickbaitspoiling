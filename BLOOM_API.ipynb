{
 "cells": [
  {
   "cell_type": "code",
   "execution_count": 1,
   "id": "af3f180f-04f4-43ee-ac9d-51bca6f437dd",
   "metadata": {
    "execution": {
     "iopub.execute_input": "2023-02-17T08:47:12.107823Z",
     "iopub.status.busy": "2023-02-17T08:47:12.107000Z",
     "iopub.status.idle": "2023-02-17T08:47:15.064752Z",
     "shell.execute_reply": "2023-02-17T08:47:15.063834Z",
     "shell.execute_reply.started": "2023-02-17T08:47:12.107764Z"
    },
    "tags": []
   },
   "outputs": [
    {
     "name": "stderr",
     "output_type": "stream",
     "text": [
      "[nltk_data] Downloading package punkt to /home/ucloud/nltk_data...\n",
      "[nltk_data]   Unzipping tokenizers/punkt.zip.\n",
      "[nltk_data] Downloading package stopwords to /home/ucloud/nltk_data...\n",
      "[nltk_data]   Unzipping corpora/stopwords.zip.\n"
     ]
    },
    {
     "data": {
      "text/plain": [
       "True"
      ]
     },
     "execution_count": 1,
     "metadata": {},
     "output_type": "execute_result"
    }
   ],
   "source": [
    "from transformers import BloomForCausalLM\n",
    "from transformers import BloomTokenizerFast\n",
    "import nltk\n",
    "import json\n",
    "import requests\n",
    "import pandas as pd\n",
    "\n",
    "from os.path import exists\n",
    "from os.path import isdir\n",
    "\n",
    "nltk.download('punkt')\n",
    "nltk.download('stopwords')"
   ]
  },
  {
   "cell_type": "code",
   "execution_count": 2,
   "id": "f7ba356c-b60b-4052-b0a3-3006195fa6dc",
   "metadata": {
    "execution": {
     "iopub.execute_input": "2023-01-23T09:29:30.550426Z",
     "iopub.status.busy": "2023-01-23T09:29:30.549700Z",
     "iopub.status.idle": "2023-01-23T09:29:30.557406Z",
     "shell.execute_reply": "2023-01-23T09:29:30.555949Z",
     "shell.execute_reply.started": "2023-01-23T09:29:30.550365Z"
    },
    "scrolled": true,
    "tags": []
   },
   "outputs": [],
   "source": [
    "#model = BloomForCausalLM.from_pretrained(\"bigscience/bloom\") #remove -1b7 for whole modelb\n",
    "#tokenizer = BloomTokenizerFast.from_pretrained(\"bigscience/bloom\")"
   ]
  },
  {
   "cell_type": "code",
   "execution_count": 3,
   "id": "062be685-fded-4fe2-b07b-a8db24f04b41",
   "metadata": {
    "execution": {
     "iopub.execute_input": "2023-02-17T08:47:30.801887Z",
     "iopub.status.busy": "2023-02-17T08:47:30.800980Z",
     "iopub.status.idle": "2023-02-17T08:47:30.809356Z",
     "shell.execute_reply": "2023-02-17T08:47:30.807541Z",
     "shell.execute_reply.started": "2023-02-17T08:47:30.801825Z"
    },
    "tags": []
   },
   "outputs": [],
   "source": [
    "#prompt = \"The train drove directly down in\"\n",
    "#result_length = 20\n",
    "#inputs = tokenizer(prompt, return_tensors=\"pt\") #??\n",
    "\n",
    "name = 'bloom_API_validation2'"
   ]
  },
  {
   "cell_type": "code",
   "execution_count": null,
   "id": "83a96562-3fd2-4b18-83db-49ac80653086",
   "metadata": {
    "tags": []
   },
   "outputs": [],
   "source": [
    "# Greedy Search\n",
    "print(tokenizer.decode(model.generate(inputs[\"input_ids\"], \n",
    "                       max_length=result_length\n",
    "                      )[0]))"
   ]
  },
  {
   "cell_type": "markdown",
   "id": "d3e3ddef-7823-482a-8bb6-4b32b3297df6",
   "metadata": {},
   "source": [
    "# Load train and validation data"
   ]
  },
  {
   "cell_type": "code",
   "execution_count": 4,
   "id": "1981e32e-db1f-4a96-84af-2a90859f2afe",
   "metadata": {
    "execution": {
     "iopub.execute_input": "2023-02-17T08:47:32.835687Z",
     "iopub.status.busy": "2023-02-17T08:47:32.834835Z",
     "iopub.status.idle": "2023-02-17T08:47:32.847401Z",
     "shell.execute_reply": "2023-02-17T08:47:32.846483Z",
     "shell.execute_reply.started": "2023-02-17T08:47:32.835627Z"
    },
    "tags": []
   },
   "outputs": [],
   "source": [
    "def error(msg):\n",
    "    print('  [\\033[91mx\\033[0m] ' + msg)\n",
    "    exit(1)\n",
    "\n",
    "def success(msg):\n",
    "    print('  [\\033[92mo\\033[0m] ' + msg)\n",
    "    \n",
    "def load_json_lines(f):\n",
    "    if not exists(f):\n",
    "        error('The file \"' + f + '\" does not exist.')\n",
    "\n",
    "    ret = []\n",
    "    num = 1\n",
    "    \n",
    "    if isdir(f):\n",
    "        f = glob(f + '/*.json*')\n",
    "        \n",
    "        if len(f) != 1:\n",
    "            error('The input is an directory that contains multiple json files. Please create only a single json file. Got ' + str(f))\n",
    "        \n",
    "        f = f[0]\n",
    "    \n",
    "    with open(f, 'r') as inp:\n",
    "        for l in inp:\n",
    "            try:\n",
    "                ret += [json.loads(l)]\n",
    "            except:\n",
    "                error('Invalid line ' + str(num) + ' in \"' + f + '\" with content: ' + l.strip())\n",
    "            num += 1\n",
    "\n",
    "    success('The file ' + f + ' is in JSONL format.')\n",
    "    return ret"
   ]
  },
  {
   "cell_type": "code",
   "execution_count": 5,
   "id": "d40bfdd3-91ee-4c61-b93d-915182b80529",
   "metadata": {
    "execution": {
     "iopub.execute_input": "2023-02-17T08:47:33.592196Z",
     "iopub.status.busy": "2023-02-17T08:47:33.591587Z",
     "iopub.status.idle": "2023-02-17T08:47:35.310668Z",
     "shell.execute_reply": "2023-02-17T08:47:35.308734Z",
     "shell.execute_reply.started": "2023-02-17T08:47:33.592141Z"
    },
    "tags": []
   },
   "outputs": [
    {
     "name": "stdout",
     "output_type": "stream",
     "text": [
      "  [\u001b[92mo\u001b[0m] The file train.jsonl is in JSONL format.\n",
      "  [\u001b[92mo\u001b[0m] The file validation.jsonl is in JSONL format.\n",
      "  [\u001b[92mo\u001b[0m] The file input.jsonl is in JSONL format.\n"
     ]
    }
   ],
   "source": [
    "train = load_json_lines('train.jsonl')\n",
    "validation = load_json_lines('validation.jsonl')\n",
    "test = load_json_lines('input.jsonl')"
   ]
  },
  {
   "cell_type": "code",
   "execution_count": null,
   "id": "7a6f69bb-578d-480f-93cc-559ff5760cc8",
   "metadata": {
    "execution": {
     "iopub.status.busy": "2023-01-21T19:43:27.786501Z",
     "iopub.status.idle": "2023-01-21T19:43:27.786805Z",
     "shell.execute_reply": "2023-01-21T19:43:27.786673Z",
     "shell.execute_reply.started": "2023-01-21T19:43:27.786657Z"
    },
    "tags": []
   },
   "outputs": [],
   "source": [
    "validation[130]['targetDescription'][-3:]"
   ]
  },
  {
   "cell_type": "code",
   "execution_count": null,
   "id": "edcadf05-29e7-4652-b173-2f91d5ac0853",
   "metadata": {
    "execution": {
     "iopub.status.busy": "2023-01-21T19:43:27.787755Z",
     "iopub.status.idle": "2023-01-21T19:43:27.788006Z",
     "shell.execute_reply": "2023-01-21T19:43:27.787895Z",
     "shell.execute_reply.started": "2023-01-21T19:43:27.787883Z"
    },
    "tags": []
   },
   "outputs": [],
   "source": [
    "i = 2\n",
    "validation[i]['targetTitle'], validation[i]['postText'], validation[i]['targetDescription'], validation[i]['targetKeywords']"
   ]
  },
  {
   "cell_type": "code",
   "execution_count": null,
   "id": "a58e0b31-0fcc-4ece-b386-3f5ca351c2de",
   "metadata": {
    "execution": {
     "iopub.status.busy": "2023-01-21T19:43:27.789035Z",
     "iopub.status.idle": "2023-01-21T19:43:27.789276Z",
     "shell.execute_reply": "2023-01-21T19:43:27.789166Z",
     "shell.execute_reply.started": "2023-01-21T19:43:27.789154Z"
    },
    "scrolled": true,
    "tags": []
   },
   "outputs": [],
   "source": [
    "len(' '.join(validation[3]['targetParagraphs']))"
   ]
  },
  {
   "cell_type": "code",
   "execution_count": null,
   "id": "347280aa-b1ec-4a61-836c-9dec8832ee89",
   "metadata": {
    "execution": {
     "iopub.status.busy": "2023-01-21T19:43:27.789999Z",
     "iopub.status.idle": "2023-01-21T19:43:27.790434Z",
     "shell.execute_reply": "2023-01-21T19:43:27.790286Z",
     "shell.execute_reply.started": "2023-01-21T19:43:27.790273Z"
    },
    "tags": []
   },
   "outputs": [],
   "source": [
    "\"abcdefghijkl\"[-5:]"
   ]
  },
  {
   "cell_type": "code",
   "execution_count": 6,
   "id": "77b73b50-1e64-4223-aa1d-1909de62692d",
   "metadata": {
    "execution": {
     "iopub.execute_input": "2023-02-17T08:47:40.075656Z",
     "iopub.status.busy": "2023-02-17T08:47:40.074768Z",
     "iopub.status.idle": "2023-02-17T08:47:40.090047Z",
     "shell.execute_reply": "2023-02-17T08:47:40.088863Z",
     "shell.execute_reply.started": "2023-02-17T08:47:40.075597Z"
    },
    "tags": []
   },
   "outputs": [
    {
     "name": "stdout",
     "output_type": "stream",
     "text": [
      "Article title: Alan Rickman & Rupert Grint On 'CBGB,' Reuniting Post-'Potter' And Favorite Halloween Costumes\n",
      "\n",
      "Article: The mythology of punk music's evolution can be traced back, more or less, to one singular staple: CBGB. Opened in 1973 in downtown Manhattan's East Village, the nightclub that originally intended to house country, bluegrass and blues music (hint its acronym) quickly became a breeding ground for bands like The Ramones, Talking Heads and The Police, among countless others. The legacy of the club, which closed in 2006 over a rent dispute, is on display in a new movie that stars Alan Rickman as bemused owner Hilly Kristal. It's a bit of a departure for anyone more accustomed to seeing Rickman, 67, play sinister Severus Snape in \"Harry Potter\" or Judge Turpin in \"Sweeney Todd.\" The movie also afforded him the opportunity to reunite with fellow Hogwarts alum Rupert Grint, who portrays one-third of derriere-bearing punk band The Dead Boys, alongside Justin Bartha and Bronson Adams. They're joined by a revolving door of notable faces, including Malin Akerman as Debbie Harry, Taylor Hawkins as Iggy Pop, Johnny Galecki as Terry Ork and Ashley Greene as Hilly's daughter Lisa. HuffPost Entertainment snagged some phone time with Rickman and Grint, who were candid about their unfamiliarity with CBGB's legacy but effusive about the excitement that came with reconvening for the project. Plus, Grint talks about his own punk phase and Rickman explains what Halloween used to mean for him. What are you up to today? Rickman: I'm in New York. I'm just here for three or four days for \"CBGB\" in New York and then back to work in England. Grint: I'm rehearsing a play that will start [in London] in a couple of weeks. Yeah, so that's it. Are you enjoying the theater work? Are you more of a theater guy or a film guy? Grint: I don’t know, really. This is my first theater experience, and it’s very different. I wanted to just try it; it’s something I’ve always wanted to do. Just the thought of it scares me. I’ve kind of put it off for a long time, and I just thought it was a good time to do it. And it’s a great play and a really great cast with a great director, and it was just, yeah, I’m enjoying it. Were you familiar with the legacy of CBGB as a breeding ground for the punk-rock scene prior to taking your roles in the movie? Rickman: I wasn’t familiar with CBGB at all. I didn’t know about it and didn’t know its history. I hadn’t even really heard those four letters put together because at that time I was very much in England as a drama student and an art student, so it’s all been a newand you’d have apple bobbing in it, and you’d get apples out of a bowl of water. To me it just means a soaking wet shirt. Grint: I liked Halloween. It never used to be a big thing when I was kid. We never really did it. But I actually had a good costume not that long ago. The last one, I dressed as a Play-Doh can that I made. You know Play-Doh? Of course. Grint: Well, literally, I actually made it. It was a yellow bin. I cut the bottom out and I just wore a yellow bin with a Play-Doh logo. With a yellow hat. It’s not very practical. Do you have a favorite Halloween candy? Rickman: I don’t even know what that means. The word \"chocolate\" would loom large. Grint: A favorite Halloween candy? I don’t really know. I never trick-or-treated when I was younger because we lived on a block of houses that were all just kind of elderly people who were just scared to answer the door. But yeah, candy corn, that’s a big thing. I’ve tried that. That’s pretty great. \"CBGB\" is out in limited release now.\n",
      "\n",
      "Tags: Alan Rickman, Hilly Kristal, new rupert grint movie, rupert grint harry potter, new alan rickman movie, Alan Rickman Snape, alan rickman rupert grint, The Dead Boys, cbgb, Malin Akerman, cbgb movie, alan rickman cbgb, rupert grint cbgb, Rupert Grint, Taylor Hawkins, ashley greene\n",
      "\n",
      "Statement to be answered: \"Harry Potter\" alums reunite for new movie\n",
      "\n",
      "Answer:\n"
     ]
    }
   ],
   "source": [
    "#Function for creating prompt from entry\n",
    "\n",
    "def make_prompt(entry):\n",
    "    article = ' '.join(entry['targetParagraphs'])\n",
    "    title = entry['targetTitle']\n",
    "    description = entry['targetDescription']\n",
    "    tags = entry['targetKeywords']\n",
    "    clickbait = entry['postText'][0]\n",
    "    \n",
    "    words = ['what', 'why']\n",
    "    \n",
    "    if len(article) > 4000:\n",
    "        article = article[:2500] + article[-1000:]\n",
    "    \n",
    "    if title.lower() == clickbait.lower():\n",
    "        title = ''\n",
    "    else:\n",
    "        title = f\"\\n\\nArticle title: {title}\"\n",
    "    \n",
    "    if tags:\n",
    "        tags = f\"\\n\\nTags: {', '.join(tags.split(','))}\"\n",
    "    else:\n",
    "        tags = ''\n",
    "    \n",
    "    if description and description[-3:] != '...':\n",
    "        description = f\"\\n\\nDescription: {description}\"\n",
    "    else:\n",
    "        description = ''\n",
    "    \n",
    "    if '?' in clickbait:\n",
    "        clickbait = f\"\\n\\nQuestion: {clickbait}\\n\\nAnswer:\"\n",
    "    elif [x for x in words if x in clickbait.lower()]:\n",
    "        clickbait = f\"\\n\\n{clickbait}:\"\n",
    "    else:\n",
    "        clickbait = f\"\\n\\nStatement to be answered: {clickbait}\\n\\nAnswer:\"\n",
    "    \n",
    "    \n",
    "    prompt = f\"{title}{description}\\n\\nArticle: {article}{tags}{clickbait}\"\n",
    "    return prompt.strip()\n",
    "\n",
    "print(make_prompt(validation[3]))"
   ]
  },
  {
   "cell_type": "code",
   "execution_count": 42,
   "id": "019769aa-d77a-4ee7-9ace-b2647627274a",
   "metadata": {
    "execution": {
     "iopub.execute_input": "2023-01-21T19:51:54.035969Z",
     "iopub.status.busy": "2023-01-21T19:51:54.035194Z",
     "iopub.status.idle": "2023-01-21T19:51:54.062360Z",
     "shell.execute_reply": "2023-01-21T19:51:54.061359Z",
     "shell.execute_reply.started": "2023-01-21T19:51:54.035913Z"
    },
    "tags": []
   },
   "outputs": [
    {
     "ename": "NameError",
     "evalue": "name 'tokenizer' is not defined",
     "output_type": "error",
     "traceback": [
      "\u001b[0;31m---------------------------------------------------------------------------\u001b[0m",
      "\u001b[0;31mNameError\u001b[0m                                 Traceback (most recent call last)",
      "Cell \u001b[0;32mIn[42], line 2\u001b[0m\n\u001b[1;32m      1\u001b[0m prompt \u001b[38;5;241m=\u001b[39m make_prompt(validation[\u001b[38;5;241m50\u001b[39m])\n\u001b[0;32m----> 2\u001b[0m inputs \u001b[38;5;241m=\u001b[39m \u001b[43mtokenizer\u001b[49m(prompt, return_tensors\u001b[38;5;241m=\u001b[39m\u001b[38;5;124m\"\u001b[39m\u001b[38;5;124mpt\u001b[39m\u001b[38;5;124m\"\u001b[39m) \u001b[38;5;66;03m#??\u001b[39;00m\n",
      "\u001b[0;31mNameError\u001b[0m: name 'tokenizer' is not defined"
     ]
    }
   ],
   "source": [
    "prompt = make_prompt(validation[50])\n",
    "inputs = tokenizer(prompt, return_tensors=\"pt\") #??"
   ]
  },
  {
   "cell_type": "code",
   "execution_count": null,
   "id": "ecd3d1b4-5f9e-4b20-b57a-6b14476298ca",
   "metadata": {
    "execution": {
     "iopub.status.busy": "2023-01-21T19:43:27.793632Z",
     "iopub.status.idle": "2023-01-21T19:43:27.793873Z",
     "shell.execute_reply": "2023-01-21T19:43:27.793763Z",
     "shell.execute_reply.started": "2023-01-21T19:43:27.793751Z"
    },
    "tags": []
   },
   "outputs": [],
   "source": [
    "pred = tokenizer.decode(model.generate(inputs[\"input_ids\"], \n",
    "                       max_new_tokens=result_length\n",
    "                      )[0])"
   ]
  },
  {
   "cell_type": "code",
   "execution_count": null,
   "id": "00021031-fa3c-43b8-812c-6f1eb11834c9",
   "metadata": {
    "execution": {
     "iopub.status.busy": "2023-01-21T19:12:53.502347Z",
     "iopub.status.idle": "2023-01-21T19:12:53.502589Z",
     "shell.execute_reply": "2023-01-21T19:12:53.502479Z",
     "shell.execute_reply.started": "2023-01-21T19:12:53.502467Z"
    },
    "tags": []
   },
   "outputs": [],
   "source": [
    "# Beam Search\n",
    "#print(tokenizer.decode(model.generate(inputs[\"input_ids\"],\n",
    "#                       max_new_tokens=result_length, \n",
    "#                       num_beams=2, \n",
    "#                       no_repeat_ngram_size=2,\n",
    "#                       early_stopping=True\n",
    "#                      )[0]))"
   ]
  },
  {
   "cell_type": "code",
   "execution_count": 15,
   "id": "e55cece1-6c7c-4b74-a495-fa1b01bff7cc",
   "metadata": {
    "execution": {
     "iopub.execute_input": "2023-02-17T09:34:25.582827Z",
     "iopub.status.busy": "2023-02-17T09:34:25.582031Z",
     "iopub.status.idle": "2023-02-17T09:34:25.594952Z",
     "shell.execute_reply": "2023-02-17T09:34:25.593870Z",
     "shell.execute_reply.started": "2023-02-17T09:34:25.582768Z"
    },
    "tags": []
   },
   "outputs": [],
   "source": [
    "API_URL = \"https://api-inference.huggingface.co/models/bigscience/bloom\"\n",
    "HF_TOKEN = 'TOKEN GOES HERE'\n",
    "headers = {\"Authorization\": f\"Bearer {HF_TOKEN}\"}\n",
    "\n",
    "import time\n",
    "def text_generate(prompt):\n",
    "    p = prompt\n",
    "    json_ = {\"inputs\": p,\n",
    "            \"parameters\":\n",
    "            {\n",
    "          \"max_new_tokens\": 20,\n",
    "          \"return_full_text\": True,\n",
    "                \"do_sample\": False\n",
    "          }, \"options\": \n",
    "              {\n",
    "              \"use_cache\": True,\n",
    "              \"wait_for_model\":True\n",
    "              },}\n",
    "    response = requests.post(API_URL, headers=headers, json=json_)\n",
    "    try:\n",
    "        output = response.json()\n",
    "    except:\n",
    "        return \"\"\n",
    "    if output == {'error': 'Rate limit reached. You reached free usage limit (reset hourly). Please subscribe to a plan at https://huggingface.co/pricing to use the API at this rate'}:\n",
    "        print(\"Reached hourly limit\")\n",
    "        for i in range(25):\n",
    "            print(i/25)\n",
    "            time.sleep(60*60)\n",
    "        return text_generate(prompt)\n",
    "    output_tmp = output[0]['generated_text']\n",
    "    solution = output_tmp.split(\"\\nQ:\")[0]\n",
    "    return solution"
   ]
  },
  {
   "cell_type": "code",
   "execution_count": 16,
   "id": "9f4a5439-db46-42cf-a4ca-7149f6d860ce",
   "metadata": {
    "execution": {
     "iopub.execute_input": "2023-02-17T09:34:26.316407Z",
     "iopub.status.busy": "2023-02-17T09:34:26.316187Z",
     "iopub.status.idle": "2023-02-17T09:44:31.360943Z",
     "shell.execute_reply": "2023-02-17T09:44:31.358984Z",
     "shell.execute_reply.started": "2023-02-17T09:34:26.316387Z"
    },
    "scrolled": true,
    "tags": []
   },
   "outputs": [
    {
     "name": "stdout",
     "output_type": "stream",
     "text": [
      "538 / 262\n",
      "prediction: [\"Hotel staff reveal guests' most GRUESOME habits\", 'A:', 'The answer is', 'Hotel staff']\n",
      "539 / 262\n",
      "prediction: Read On!\n",
      "540 / 262\n",
      "prediction: ['Jose Jose, Mexican Singer, Falls Off Stage During Anniversary Concert (VIDEO)', 'A:', 'The title']\n",
      "541 / 262\n",
      "prediction: The United States would have to pay $634 billion to developing nations to stop climate change. The U\n",
      "542 / 262\n",
      "prediction: 1. The unemployment rate in November fell to 4.6 percent, the lowest in nine year\n",
      "543 / 262\n",
      "prediction: How will humans look 100,000 years from now? This question was originally answered on Quora by\n",
      "544 / 262\n",
      "prediction: The Supreme Court has allowed a plea of a Mumbai-based 22-year-old woman to terminate her pregnancy after taking\n",
      "545 / 262\n",
      "prediction: No, not yet.\n",
      "546 / 262\n",
      "prediction: Yes, it can. The article above shows that whale ear wax can be used to determine the stre\n",
      "547 / 262\n",
      "prediction: The temple officials decided to replace all the larger vessels with those of smaller sizes. Also See Download our\n",
      "548 / 262\n",
      "prediction: [\"The Queen had a brilliant response when a tourist asked her if she'd met the Queen\", 'A:']\n",
      "549 / 262\n",
      "prediction: ['May 8, 2016', 'A:', 'The answer is', 'May 8, 2016', 'Reasoning:', 'The']\n",
      "550 / 262\n",
      "prediction: Daniel Radcliffe, who played Harry Potter in the eight-film franchise, said he was excited to\n",
      "551 / 262\n",
      "prediction: ['The Rock Zanzibar', 'A:', 'The answer is', 'The Rock Zanzibar', 'Reasoning:', 'The first sentence']\n",
      "552 / 262\n",
      "prediction: Former NBA player Jackson Vroman reportedly drowned after tripping and hitting his head near his pool\n",
      "553 / 262\n",
      "prediction: ['None of them.', 'A:', 'I have read all of them except for the last one. I have']\n",
      "554 / 262\n",
      "prediction: ['Yes, they can.', 'A:', 'Yes, they can.', 'The article is a bit misleading, but']\n",
      "555 / 262\n",
      "prediction: The actress has been a hot topic in Hollywood for years, and her behavior on set has become\n",
      "556 / 262\n",
      "prediction: ['Turkey is an example of a protein with high levels of tryptophan.', 'A:']\n",
      "557 / 262\n",
      "prediction: ['Potatoes', 'A:', 'I think the answer is', 'Potatoes', 'Because', 'Penn Jillette i']\n",
      "558 / 262\n",
      "prediction: The beauty blunders that are making you appear ten years OLDER (and how to fix them\n",
      "559 / 262\n",
      "prediction: ['Taran Killam and Jay Pharoah', \"Question: Who got dropped in 'SNL' cast shake\"]\n",
      "560 / 262\n",
      "prediction: ['Idaho', 'What State Has the Second Worst Drivers:', 'Washington, D.C']\n",
      "561 / 262\n",
      "prediction: ['The Wrong Books? What Science Is Saying About Fiction Readers', 'A:', 'I think']\n",
      "562 / 262\n",
      "prediction: ['She wants to send a message to other addicts', 'A:', 'I think the answer is', 'She']\n",
      "563 / 262\n",
      "prediction: No, it does not.\n",
      "564 / 262\n",
      "prediction: ['Ernestine Shepherd, 77', 'A:', 'I think the answer is', 'Ernestine Shepherd,']\n",
      "565 / 262\n",
      "prediction: Your brain has a delete button, and it is called sleep. When you sleep, your brain\n",
      "566 / 262\n",
      "prediction: The IOC is trying to hitch its wagon to environmental sustainability, wider participation in sport,\n",
      "567 / 262\n",
      "prediction: ['Mother’s pork joint looks like something quite different', 'A:', 'The answer is', 'Mother’s pork joint']\n",
      "568 / 262\n",
      "prediction: [\"Don't touch her bump\", \"Don't ask if she has chosen a name\", \"Don't look shocked when you\"]\n",
      "569 / 262\n",
      "prediction: ['Single motherhood', \"Article title: J.K. Rowling: Single Motherhood Is The Thing I'm\"]\n",
      "570 / 262\n",
      "prediction: ['$765,759', 'A:', 'The answer is', '$765,759', 'Explanation:']\n",
      "571 / 262\n",
      "prediction: The legal drinking age of 21 actually saves lives because it reduces the number of people who are under\n",
      "572 / 262\n",
      "prediction: ['Oregon', 'Reasoning:', 'The article says that there are 269 medical marijuana dispensaries open for']\n",
      "573 / 262\n",
      "prediction: The Romneys are known for their conservative politics, but their home is anything but.\n",
      "574 / 262\n",
      "prediction: ['Barcelona sign ronaldinho for the second time as brazillian takes on new role', 'A:', 'You']\n",
      "575 / 262\n",
      "prediction: ['Jennifer Lawrence will make an unexpected cameo in highly anticipated sequel', 'A:', 'I think the answer']\n",
      "576 / 262\n",
      "prediction: The message is that we should never take anything for granted, and that we should always be aware\n",
      "577 / 262\n",
      "prediction: The drop in price seems reactionary, a reflection of some sellers’ fear that the market\n",
      "578 / 262\n",
      "prediction: ['tahini', 'A:', 'I think the answer is', 'tahini', 'Because', 'The title of the']\n",
      "579 / 262\n",
      "prediction: He sang a song sitting on a couch, reading a newspaper and sipping tea.\n",
      "580 / 262\n",
      "prediction: ['The bear left behind the strawberry rhubarb pie', 'A:', 'The answer is', 'Straw']\n",
      "581 / 262\n",
      "prediction: ['Tech:', 'A:', 'The patent is for a paper bag. The patent is for a paper bag']\n",
      "582 / 262\n",
      "prediction: [\"Boil Christmas veg? Don't sprout nonsense\", 'A:', 'I think the answer is that the']\n",
      "583 / 262\n",
      "prediction: ['Use a moisturizer that contains ceramides', 'Article title: Ceramide Moisturizer I']\n",
      "584 / 262\n",
      "prediction: Yes, it is.\n",
      "585 / 262\n",
      "prediction: Windows has long been the undisputed king of computer operating systems when it comes to gaming.\n",
      "586 / 262\n",
      "prediction: ['The answer is to not talk to her.', 'A:', 'The answer is to not talk to her']\n",
      "587 / 262\n",
      "prediction: [\"Justin Bieber's Latest Antics Prove Just How Big a Dick He Really is\", 'A:', 'I']\n",
      "588 / 262\n",
      "prediction: The article is talking about games that are taking forever to come out, not games that are taking\n",
      "589 / 262\n",
      "prediction: The Ministry of Defence said the guard's reaction in the situation was \"appropriate\" and no further\n",
      "590 / 262\n",
      "prediction: ['playing hide-and-seek', 'A:', 'The answer is', 'playing hide-and-seek', 'Because']\n",
      "591 / 262\n",
      "prediction: ['Laura Bush is unlikely to support Clinton over Trump', 'A:', 'The article is not saying that Laura Bush']\n",
      "592 / 262\n",
      "prediction:        \n",
      "593 / 262\n",
      "prediction: ['Adele has to give up pizza to save her voice', 'A:', 'The answer is', 'Adele']\n",
      "594 / 262\n",
      "prediction: ['pic.twitter.com/8z8YZzWq6O', 'A:', 'I think']\n",
      "595 / 262\n",
      "prediction: It depends on your priorities.\n",
      "596 / 262\n",
      "prediction: ['Colorado', 'A:', 'I think the answer is', 'Colorado', 'Reasoning:', 'The first sentence is a']\n",
      "597 / 262\n",
      "prediction: Initial jobless claims unexpectedly fell. Claims, which count the number of people who applied for\n",
      "598 / 262\n",
      "prediction: Lego is a family-owned company founded in Denmark in 1932. It has enjoyed booming growth\n",
      "599 / 262\n",
      "prediction: ['Steven Spielberg promises one big thing for Indiana Jones 5', 'A:', 'The article is a bit misleading.']\n",
      "600 / 262\n",
      "prediction: The government is planning to launch a new generation e-passport featuring enhanced security features such as bio-m\n",
      "601 / 262\n",
      "prediction: The Duffer Brothers reveal details about the second season of Stranger Things, premiering in 2017\n",
      "602 / 262\n",
      "prediction: I think it was a combination of things. I was working on \"Mad Men\" and I\n",
      "603 / 262\n",
      "prediction: ['A bag of money.', 'A:', 'The answer is', 'A bag of money.', 'Explanation:']\n",
      "604 / 262\n",
      "prediction: The driver escaped by climbing out of the driver's window and hiding in the tree-covered section\n",
      "605 / 262\n",
      "prediction: The man was arrested on Friday night. The police said that the accused, identified as Tul\n",
      "606 / 262\n",
      "prediction: ['Ailish Sheehan', 'A:', 'The answer is Ailish Sheehan.', 'The article i']\n",
      "607 / 262\n",
      "prediction: The article is about the importance of small wins. The author says that we should focus on the\n",
      "608 / 262\n",
      "prediction: ['Chicago', 'A:', 'I think the answer is Chicago, Illinois, USA.']\n",
      "609 / 262\n",
      "prediction: ['Sexual objectification', 'A:', 'The answer is', 'Sexual objectification', 'Reasoning:', 'The title of']\n",
      "610 / 262\n",
      "prediction: [\"Shane Bauer's Story\", \"Article: Read Mother Jones reporter Shane Bauer's firsthand account of his four\"]\n",
      "611 / 262\n",
      "prediction: ['Sadly, this is the top vegetable 1-year-olds in America eat', 'A:', 'The answer i']\n",
      "612 / 262\n",
      "prediction: The Neanderthals were more sophisticated than previously thought. They wielded fire, vent\n",
      "613 / 262\n",
      "prediction: A Colombian porn star crashed her car while driving from Cali to the city of Pereira, the\n",
      "614 / 262\n",
      "prediction: Sarah Gailey serves as a shining example of why men should always listen to their girlfriends. She\n",
      "615 / 262\n",
      "prediction: The Cavs have been taught the simple truth seven times now — all Warriors wins — and yet they\n",
      "616 / 262\n",
      "prediction: Eatsa is a cashier-less restaurant that uses robots to prepare food and deliver it to customer\n",
      "617 / 262\n",
      "prediction: ['$10,527,843,932', 'A:', 'You can use the following regex:']\n",
      "618 / 262\n",
      "prediction: ['The GTA V community has found a mysterious new secret from the game', 'A:', 'The answer']\n",
      "619 / 262\n",
      "prediction: ['Millennials blame colleges for the problem.', 'A:', 'I think the answer is that the article i']\n",
      "620 / 262\n",
      "prediction: The family values of the Qanbar family are the same as the values of the families of\n",
      "621 / 262\n",
      "prediction: Jennifer Garner Decides on Ben Affleck Divorce: To Split or Reconcile?\n",
      "622 / 262\n",
      "prediction: The article is about a vet who committed suicide because she was overwhelmed by the number of animal\n",
      "623 / 262\n",
      "prediction: The women were arrested for vandalism, not for being \"so woke\".\n",
      "624 / 262\n",
      "prediction: The text message was a premonition of her death.\n",
      "625 / 262\n",
      "prediction: Menelik Watson of the Oakland Raiders just earned our All-Pro honors -- for incredible genero\n",
      "626 / 262\n",
      "prediction: The Chainsmokers have been pretty tight-lipped about the meaning behind the lyrics in\n",
      "627 / 262\n",
      "prediction: ['@KimKardashian steps out in leggings for Pilates class', 'A:', 'I think']\n",
      "628 / 262\n",
      "prediction: ['Ana', 'A:', 'The answer is', 'Ana', 'Reasoning:', 'The title of the article is \"New']\n",
      "629 / 262\n",
      "prediction: ['He Googled me and found some things.', 'A:', 'I think the answer is', 'He']\n",
      "630 / 262\n",
      "prediction: ['Dr. Jo', 'Article: While hundreds of thousands have shown their love and support for the victim']\n",
      "631 / 262\n",
      "prediction: ['https://t.co/QX8qJq1JqC', 'A:', 'I think the answer']\n",
      "632 / 262\n",
      "prediction: ['Former \"Full House\" star is now a go-go-dancer', 'A:', 'I think the answer']\n",
      "633 / 262\n",
      "prediction: In Illinois, it is now legal to hunt for catfish with pitchforks or spear\n",
      "634 / 262\n",
      "prediction: The father realized one of his biggest regrets after his son’s fatal car crash and is now committed\n",
      "635 / 262\n",
      "prediction: @Beyonce was the most searched for person on Google, but @MileyCyrus wa\n",
      "636 / 262\n",
      "prediction: ['Adele forgot the lyrics to her song and this was her reaction. 😂', 'A:']\n",
      "637 / 262\n",
      "prediction: I need feminism because I intend on marrying rich and I can’t do that if my wife\n",
      "638 / 262\n",
      "prediction: [\"Lola The Dog's Santa Encounter Will Get You In The Holiday Spirit\", 'Article title: Lola']\n",
      "639 / 262\n",
      "prediction: Head’s up \"The Newsroom\" fans, this one might sting a bit. Aaron Sorkin\n",
      "640 / 262\n",
      "prediction: The answer is 0.5 *10*6 which evaluates to 30! But his confident response wa\n",
      "641 / 262\n",
      "prediction: The vote has exposed polarization between Scotland and large parts of England who voted to stay and other parts of\n",
      "642 / 262\n",
      "prediction: A job is a job, a calling is a calling. A job is a job, a calling\n",
      "643 / 262\n",
      "prediction: ['A bald woman sitting in her car reading a book.', 'A:', 'I think the answer is']\n",
      "644 / 262\n",
      "prediction: ['This \"Star Wars\" theory about Rey is insane', 'A:', 'This is a great question, and']\n",
      "645 / 262\n",
      "prediction: ['A former model starved to death, but not from anorexia', 'A:', 'The answer i']\n",
      "646 / 262\n",
      "prediction: ['Yes, it did. The Ice Bucket Challenge actually... worked.', 'A:', 'The Ice Bucket']\n",
      "647 / 262\n",
      "prediction: Article: These small circles are called \"Venus Holes\" and are formed on the lower\n",
      "648 / 262\n",
      "prediction: They are using cupping therapy to help with recovery from the physical toil of constant training and competing\n",
      "649 / 262\n",
      "prediction: The article is about the power shortage in Gaza. The power shortage is a result of the conflict between\n",
      "650 / 262\n",
      "prediction: Yes, they do.\n",
      "651 / 262\n",
      "prediction: [\"London's Muslim Mayor Perfectly Responds To Donald Trump's Offer In Just 5 Words\", 'A:']\n",
      "652 / 262\n",
      "prediction: ['Berlin', 'A:', 'The answer is Berlin', 'Because of Brexit, Berlin is now likely to become Europe']\n",
      "653 / 262\n",
      "prediction: The crinkles are baked in-house daily, and are strictly limited to 20 per person\n",
      "654 / 262\n",
      "prediction: ['The simple method takes hardly any time, and can be done pretty much anywhere', 'The simple method']\n",
      "655 / 262\n",
      "prediction: [\"Cop met little girl in 1998; now she's done this\", 'A:', 'The answer is', 'Cop met']\n",
      "656 / 262\n",
      "prediction: ['The real purpose of the end part of chopstick will blow your mind', 'A:', 'The real purpose']\n",
      "657 / 262\n",
      "prediction: ['They can be used to organize your drawers.', 'A:', 'I think the answer is', 'We']\n",
      "658 / 262\n",
      "prediction: The relationship between athletes and sexual assault is a decades-old discussion. Since at least the 1980s,\n",
      "659 / 262\n",
      "prediction: The article is a bit misleading. It says that you can make your penis bigger by losing weight\n",
      "660 / 262\n",
      "prediction: ['Article: Why Voting for Donald Trump Is a Morally Good Choice:', 'Article: Why']\n",
      "661 / 262\n",
      "prediction: The watermelon seeds are boiled to remove the bitter taste. The seeds are boiled in water\n",
      "662 / 262\n",
      "prediction: ['Warren Buffett thinks Ben Bernanke should stay on as Fed Chair', 'A:', 'I think the answer']\n",
      "663 / 262\n",
      "prediction: ['Coming this fall', 'A:', 'The answer is', 'Coming this fall', 'Reasoning:', 'The']\n",
      "664 / 262\n",
      "prediction: ['A:', 'The answer is', '1. Because you are not protected when you use the internet.']\n",
      "665 / 262\n",
      "prediction: ['Sleep Deprivation', 'A:', \"I think the answer is yes, but I don't think it i\"]\n",
      "666 / 262\n",
      "prediction: ['Feb. 24', 'A:', 'The answer is', 'Feb. 24', 'Because', 'The title of']\n",
      "667 / 262\n",
      "prediction: No, it is not safe to drink blood. The strange fact is, blood, when drank\n",
      "668 / 262\n",
      "prediction: [\"If you're a millennial couple, chances are you flat-out ROCK at this\", 'A:', 'I']\n",
      "669 / 262\n",
      "prediction: ['I had never heard of this condition until the terrible joint pain set in.', 'A:', 'I think']\n",
      "670 / 262\n",
      "prediction: The Cubs won Game 7 by scoring 2 runs in the top of the 10th inning,\n",
      "671 / 262\n",
      "prediction: Don't play Pokémon Go in your car.\n",
      "672 / 262\n",
      "prediction: The lids are made to be used as coasters.\n",
      "673 / 262\n",
      "prediction: It’s safe to say we can all get swept up in a frenzy of what would make the\n",
      "674 / 262\n",
      "prediction: ['Inside my own heart', 'A:', 'I think the answer is', 'Inside my own heart', 'Because']\n",
      "675 / 262\n",
      "prediction: ['Scarlett Johansson could make Oscar history', 'A:', 'I think the answer is']\n",
      "676 / 262\n",
      "prediction: ['All Blue-Eyed People Have This One Thing In Common', 'A:', 'I think the answer is']\n",
      "677 / 262\n",
      "prediction: Dawn Grace lost her son four years ago, and now she meets the man who received his heart in\n",
      "678 / 262\n",
      "prediction: ['What the process of dyeing your hair platinum-blond is like.', 'How to prepare for the']\n",
      "679 / 262\n",
      "prediction: ['The seventh inning stretch', 'A:', 'The answer is', 'The third metric', 'Reasoning:', 'The']\n",
      "680 / 262\n",
      "prediction: The rice is cooked in coconut oil, which is a saturated fat. Saturated fat\n",
      "681 / 262\n",
      "prediction: ['They’re trying to tell you that they love you.', 'A:', 'I think the answer is']\n",
      "682 / 262\n",
      "prediction: ['If You See This In A Public Washroom LEAVE Immediately And Call 911.', 'A:']\n",
      "683 / 262\n",
      "prediction: The article is about how the richest women celebrities go on vacation. The article is about\n",
      "684 / 262\n",
      "prediction: ['Louisville, Kentucky', 'Source: https://www.voanews.com/a/this-us-city-is-w']\n",
      "685 / 262\n",
      "prediction: [\"CNN caught ADDING key word to Trump's comments; Twitter ERUPTS\", 'A:', 'The']\n",
      "686 / 262\n",
      "prediction: The article is a little bit of a joke, but it does have some interesting points. The\n",
      "687 / 262\n",
      "prediction: Yes, I did. I was watching the show on a big screen TV and I noticed it right\n",
      "688 / 262\n",
      "prediction: ['Lime green', 'Reasoning:', 'The article is about redheads, and the eyeshadow color']\n",
      "689 / 262\n",
      "prediction: The statement is false. Judge's 460-foot homer on Saturday in Pittsburgh was the third\n",
      "690 / 262\n",
      "prediction: ['Thiruvananthapuram, India', 'A:', 'The 20 cities with the lowest cost of']\n",
      "691 / 262\n",
      "prediction: ['According to science, this is the most addictive food in the world', 'A:', 'The most add']\n",
      "692 / 262\n",
      "prediction: Ecuador, Nicaragua, Thailand, Belize, Malaysia, Costa Rica, Panama, and the Philippines\n",
      "693 / 262\n",
      "prediction: The gut bacteria changes observed after a few nights of insufficient sleep are linked with the various metabolic disease\n",
      "694 / 262\n",
      "prediction: 1. Belle is more than a bold, beautiful bookworm and devoted daughter -- she’\n",
      "695 / 262\n",
      "prediction: ['@MileyCyrus strips down in an entirely different way', 'A:', 'I think the answer i']\n",
      "696 / 262\n",
      "prediction: ['Morality', 'Explanation: Morality is a magic word because it is a word that people use']\n",
      "697 / 262\n",
      "prediction: The title of the show is Buffy the Vampire Slayer, but the show i\n",
      "698 / 262\n",
      "prediction: ['You have to change your last name to \"burger\".', 'A:', 'I think the answer i']\n",
      "699 / 262\n",
      "prediction: ['Hot dogs', 'A:', 'The answer is', 'Hot dogs', 'Reasoning', 'The article title is \"F']\n",
      "700 / 262\n",
      "prediction: ['Breaking Bad', 'A:', 'I think the answer is', 'Breaking Bad', 'Because', 'Breaking']\n",
      "701 / 262\n",
      "prediction: ['Because why not?', 'A:', 'The Guardian of the Galaxy is a comic book character, and comic book']\n",
      "702 / 262\n",
      "prediction: ['The 10 Least Stressful Jobs In 2017', 'CareerCast evaluated 200 professions and rated']\n",
      "703 / 262\n",
      "prediction: ['The 10 Professions With the Most Psychopaths', 'A:', 'The answer is', 'The 10']\n",
      "704 / 262\n",
      "prediction: Yes, I did know that this plant from my garden can treat hair loss. I have been using\n",
      "705 / 262\n",
      "prediction: ['1,080', 'A:', 'I think the way it worked when I took them was that they were']\n",
      "706 / 262\n",
      "prediction: ['Google', 'A:', 'Google', 'Google has made another bet on music.', 'Google has made another bet on']\n",
      "707 / 262\n",
      "prediction: Chili peppers, mustard, cinnamon, cayenne pepper, green tea,\n",
      "708 / 262\n",
      "prediction: ['Intrepid', 'A:', 'The answer is', 'Intrepid', 'Reasoning:', 'The word in']\n",
      "709 / 262\n",
      "prediction: People who poop at this time of day are healthiest because they are able to get rid\n",
      "710 / 262\n",
      "prediction: ['False', 'Reasoning:', 'The article states that UCLA has more NCAA championships than black']\n",
      "711 / 262\n",
      "prediction: ['The moralizing do-gooders who are most likely to make mischief', 'Article: The moral']\n",
      "712 / 262\n",
      "prediction: ['Battlefield 1 might have a hilarious new game mode that sounds crazy', 'A:', 'The answer i']\n",
      "713 / 262\n",
      "prediction: She said \"Chal Na Katrina\" to @ZacEfron in the #Baywatch Hindi trailer\n",
      "714 / 262\n",
      "prediction: ['February 24, 2014', 'A:', 'I think the answer is', 'February 24, 2014', 'Because']\n",
      "715 / 262\n",
      "prediction: ['7 hours', 'A:', 'I think the answer is', '7 hours', 'Because', 'The first line']\n",
      "716 / 262\n",
      "prediction: She found them in the trailer for the movie G.B.F.\n",
      "717 / 262\n",
      "prediction: ['The answer is', 'The number of steps taken by the players to walk the dogs', 'Explan']\n",
      "718 / 262\n",
      "prediction: ['Donald Trump calls Ted Cruz the p word', 'A:', 'The word pussy is a slang']\n",
      "719 / 262\n",
      "prediction: The authorization to build a wall on the U.S.-Mexico border was passed in 2006\n",
      "720 / 262\n",
      "prediction: Statement: Hillary Clinton is simply as terrible as Donald Trump. Expect new catastrophic wars in the\n",
      "721 / 262\n",
      "prediction: ['Lawrence Phillips', 'A:', 'The answer is Lawrence Phillips, a former NFL player who was serving a sentence']\n",
      "722 / 262\n",
      "prediction: Carrer Avinyó, a gorgeous Barcelona apartment designed by David Kohn Architects ha\n",
      "723 / 262\n",
      "prediction: The first person to capture all 142 Pokémon just got the gift of a lifetime: a trip to\n",
      "724 / 262\n",
      "prediction: A Complete Stranger Saved This Mom and Her 4 Kids but Wanted 1 Major Thing in Return\n",
      "725 / 262\n",
      "prediction: Localized, renewable energy creates backup support systems on the grid that don’t fail with natural disasters or terrorism\n",
      "726 / 262\n",
      "prediction: [\"It's a phenomenon known as superfetation, and while it's rare, it can happen.\", 'A:']\n",
      "727 / 262\n",
      "prediction: ['Colin Quinn', 'A:', 'The answer is', 'Colin Quinn', 'Because', 'The article title is Tina Fey']\n",
      "728 / 262\n",
      "prediction: ['The Medium is The (Text) Message', 'A:', 'The Medium is The (Text) Message']\n",
      "729 / 262\n",
      "prediction: ['The rock was a fossilized egg of a dinosaur.', 'A:', 'The answer is', 'A dinosaur egg']\n",
      "730 / 262\n",
      "prediction: According to the Rubicon Project, millennials are predicted to spend an average of $1,\n",
      "731 / 262\n",
      "prediction: The article is talking about the value of the collectibles. The value of the collectibles i\n",
      "732 / 262\n",
      "prediction: The article is a fake. The article is a fake. The article is a fake. The article\n",
      "733 / 262\n",
      "prediction: In the country of Scotland, a farmer came across a stone one day that looked like it had been\n",
      "734 / 262\n",
      "prediction: ['Channel 4 has revealed the latest celebrities to brave the most dangerous show on TV', 'A:', 'The']\n",
      "735 / 262\n",
      "prediction: The Surprising Thing You Never Have To Do In Watch Dogs 2 By Dirk Libbey\n",
      "736 / 262\n",
      "prediction: The statement is false. The article says that the Cowboys are going to run the ball more thi\n",
      "737 / 262\n",
      "prediction: ['Pikachu is now Pikaqiu', 'A:', 'I think the answer is', 'Pikachu']\n",
      "738 / 262\n",
      "prediction: Panache Lingerie's new Sculptresse line, a fun, flattering collection offered in\n",
      "739 / 262\n",
      "prediction: The equation is a mathematical equation to show just how much damage humans are causing to Earth. The\n",
      "740 / 262\n",
      "prediction: The reason is that the film is based on a book, and the book is based on a\n",
      "741 / 262\n",
      "prediction: Cats are afraid of cucumbers because they are afraid of the unknown. They are also afraid\n",
      "742 / 262\n",
      "prediction: The study found that replacing diet soda with water after meals led to greater weight loss and improved insulin resistance\n",
      "743 / 262\n",
      "prediction: I think so. I think it's his best performance ever. I think it's his best performance since The\n",
      "744 / 262\n",
      "prediction: The man is not in a glass enclosure. The glass is in front of the man, not\n",
      "745 / 262\n",
      "prediction: ['A rag', 'A:', 'I think the answer is', 'A flashlight', 'Because', 'You can']\n",
      "746 / 262\n",
      "prediction: Chick-Fil-A just dropped a BOMB on Black Lives Matter...Police officers are pump\n",
      "747 / 262\n",
      "prediction: The article states that the city of Houston has tested 6,663 rape kits, and that the\n",
      "748 / 262\n",
      "prediction: The couple waited 9 years to unwrap the gift because they didn't want to open it until they\n",
      "749 / 262\n",
      "prediction: ['Swipe the card instead of inserting it into the card reader.', 'A:', 'I think the answer i']\n",
      "750 / 262\n",
      "prediction: The magazine defends its styling choices with the following statement: \"On all of our shoots, our styl\n",
      "751 / 262\n",
      "prediction: The bacteria on your skin is transferred to your jeans, and the bacteria on your jeans is transferred\n",
      "752 / 262\n",
      "prediction: Trump’s sniffles were so bad that they were the subject of a Twitter thread by the\n",
      "753 / 262\n",
      "prediction: Turmeric is a natural bleaching agent. It is a yellow spice that is used\n",
      "754 / 262\n",
      "prediction: Milk is a great source of calcium, which is important for bone health. Calcium i\n",
      "755 / 262\n",
      "prediction: ['The list', 'A:', 'The answer is', 'The list', 'Because', 'The list is the only one']\n",
      "756 / 262\n",
      "prediction: ['Chris Crocker', 'A:', 'I think the answer is', 'Chris Crocker', 'Because', 'The first']\n",
      "757 / 262\n",
      "prediction: ['The Canadian Medical Association Journal', 'A:', 'The answer is', 'The Canadian Medical Association Journal', 'Reason']\n",
      "758 / 262\n",
      "prediction: ['Her Daddy Died Before She Was Born. But Watch What They Capture On Camera...', 'Article title:']\n",
      "759 / 262\n",
      "prediction: https://t.co/QX8q8zZYqb pic.twitter.com/zY\n",
      "760 / 262\n",
      "prediction: Minnesota is a state that wants to legalize medical marijuana. Police agencies won't let it.\n",
      "761 / 262\n",
      "prediction: Parents Who Bring Forgotten Lunch to School See Shocking Orders Posted\n",
      "762 / 262\n",
      "prediction: The lag is caused by the 3DS's hardware. The 3DS is a great handheld\n",
      "763 / 262\n",
      "prediction: Two women asked another woman for directions, hugged her, and ended up stealing her jewelry\n",
      "764 / 262\n",
      "prediction: ['Cecily Strong', 'A:', 'I think the answer is', 'Cecily Strong', 'Because', 'The title']\n",
      "765 / 262\n",
      "prediction: 19. Basically, you like the best of things, but you can easily compromise. You’re\n",
      "766 / 262\n",
      "prediction: The article is about the Arizona Senate. The senators want to make it easier to legislate\n",
      "767 / 262\n",
      "prediction: ['The mystery is solved.', 'A:', 'The answer is', 'The windows are not aligned with the seats because']\n",
      "768 / 262\n",
      "prediction: ['Springfield, Oregon', 'A:', 'The Simpsons is set in Springfield, Oregon, USA']\n",
      "769 / 262\n",
      "prediction: The dog was pregnant and had just given birth to nine puppies. The puppies were hidden\n",
      "770 / 262\n",
      "prediction: Sony has not confirmed a deal with Microsoft yet.\n",
      "771 / 262\n",
      "prediction: The canisters have the symbol for lead, which blocks Superman’s X-ray vision.\n",
      "772 / 262\n",
      "prediction: The reason why you shiver after peeing is because of the cold water. When you pe\n",
      "773 / 262\n",
      "prediction: ['NASA Warns Massive Asteroid Is Heading Towards Earth TODAY', 'A:']\n",
      "774 / 262\n",
      "prediction: A woman who interviewed over 100 people at Goldman Sachs says there's one question she always hoped candidates would ask\n",
      "775 / 262\n",
      "prediction: \"Dumb British blond fucks 15 million people at once.\"   \n",
      "776 / 262\n",
      "prediction: ['WWE Legend Pat Patterson Comes Out As Gay', 'A:', 'I think the answer i']\n",
      "777 / 262\n",
      "prediction: ['I bullshitted.', 'A:', 'I think the answer is', 'I bullshitted.', 'Because']\n",
      "778 / 262\n",
      "prediction: Yvette Nicole Brown, who played Shirley Bennett on \"Community\" and appeared on the show's final\n",
      "779 / 262\n",
      "prediction: ['Florida', 'A:', 'The answer is', 'Florida', 'Because', 'The title of the article is 11 Of']\n",
      "780 / 262\n",
      "prediction: [\"Hagrid couldn't produce a Patronus. It's a very difficult spell.\", 'A:', 'The answer is', 'Hagrid']\n",
      "781 / 262\n",
      "prediction: ['#ElectionNight', 'A:', 'I think the answer is', '#ElectionNight', 'Because']\n",
      "782 / 262\n",
      "prediction: The average time to ejaculation in the general population is 5.4 minutes, according to a\n",
      "783 / 262\n",
      "prediction: ['The list', 'A:', 'The answer is', 'The list', 'Because', 'The list is a list of']\n",
      "784 / 262\n",
      "prediction: ['The antibodies that were invented to help immunologists find GOD were the monoclonal antibodies.', 'A:']\n",
      "785 / 262\n",
      "prediction: Some festivals are about music; some are about food or culture; some are about just blowing off\n",
      "786 / 262\n",
      "prediction: ['White pepper', 'A:', 'The answer is', 'White pepper', 'The reason is', 'The most under-app']\n",
      "787 / 262\n",
      "prediction: The perverted powwow officially began when one friend, let’s call him Freddy, announced something\n",
      "788 / 262\n",
      "prediction: The Olsen twins' net worth is $400 million, but they made most of their money\n",
      "789 / 262\n",
      "prediction: The answer is the number of letters in the title of the article.\n",
      "790 / 262\n",
      "prediction: ['1. Liz Taylor was basically the goddess of love.  💖', '2. I']\n",
      "791 / 262\n",
      "prediction: The Houston Chronicle has endorsed Hillary Clinton for president, making it the first major newspaper in Texas to back\n",
      "792 / 262\n",
      "prediction: ['The guy was in a crack house.', 'A:', 'The guy was in a crack house.', 'The']\n",
      "793 / 262\n",
      "prediction: The statement is that China is transitioning too early to a service-led economy. The answer i\n",
      "794 / 262\n",
      "prediction: A Colorado woman and her dog were out for a walk when the dog suddenly died. The woman\n",
      "795 / 262\n",
      "prediction: The video has been viewed over 1.5 million times and has been shared over 10,000\n",
      "796 / 262\n",
      "prediction: [\"This Texas GOP elector announces that he won't vote for Trump\", 'A:', 'This is a very interesting']\n",
      "797 / 262\n",
      "prediction: The article is about a beauty pageant contestant who has taken to Instagram to share the one\n",
      "798 / 262\n",
      "prediction: The statement is false.\n",
      "799 / 262\n",
      "prediction: Richard Belzer is leaving \"Law &amp; Order: SVU.\" Belzer, who has been\n"
     ]
    }
   ],
   "source": [
    "predictions_from_prompts = []\n",
    "prompts = [make_prompt(x) for x in validation[538:]]\n",
    "\n",
    "for i, prompt in enumerate(prompts):\n",
    "    print(i+538,\"/\",len(prompts))\n",
    "    #inputs = tokenizer(prompt, return_tensors=\"pt\")\n",
    "    #prediction = tokenizer.decode(model.generate(inputs[\"input_ids\"], \n",
    "    #                       max_length=len(inputs['input_ids'][0])+20\n",
    "    #                      )[0])\n",
    "    prediction = text_generate(prompt)\n",
    "    anchor = prompt[-15:]\n",
    "    pred = prediction[prediction.find(anchor)+15:].strip('</s>').strip()\n",
    "    if '\\n' in pred:\n",
    "        #pred = pred.replace('\\n', ' ')\n",
    "        pred = [x.strip() for x in pred.split('\\n') if len(x)!=0]\n",
    "    predictions_from_prompts.append(pred)\n",
    "    print('prediction:',pred)"
   ]
  },
  {
   "cell_type": "code",
   "execution_count": null,
   "id": "f99b363a-65be-481f-a497-21bfa2bb0881",
   "metadata": {
    "execution": {
     "iopub.status.busy": "2023-01-23T09:39:43.596869Z",
     "iopub.status.idle": "2023-01-23T09:39:43.597097Z",
     "shell.execute_reply": "2023-01-23T09:39:43.596997Z",
     "shell.execute_reply.started": "2023-01-23T09:39:43.596985Z"
    },
    "tags": []
   },
   "outputs": [],
   "source": [
    "with open(f\"{name}.txt\", 'w') as f:\n",
    "    f.writelines([str(x)+'\\n' for x in predictions_from_prompts])"
   ]
  },
  {
   "cell_type": "code",
   "execution_count": 12,
   "id": "49a5c428-f5bb-4912-a063-d194511765ce",
   "metadata": {
    "execution": {
     "iopub.execute_input": "2023-02-17T09:12:39.340601Z",
     "iopub.status.busy": "2023-02-17T09:12:39.339885Z",
     "iopub.status.idle": "2023-02-17T09:12:39.350763Z",
     "shell.execute_reply": "2023-02-17T09:12:39.349152Z",
     "shell.execute_reply.started": "2023-02-17T09:12:39.340543Z"
    },
    "tags": []
   },
   "outputs": [
    {
     "data": {
      "text/plain": [
       "'Description: Bollywood: Where size matters!\\n\\nArticle: Salman is a bigger star than me. I think Shah Rukh is a bigger star. Amitabh ji is a bigger star. When Salman enters it looks like a big star has entered. When I enter feels like a waiter has entered. No offense to waiters. But I just mean that when I enter it doesn’t feel like a star has entered. So Salman and Shah Rukh are bigger stars than I am. I think between myself, Aamir and Salman we have huge liking towards each other. I also feel they are bigger stars than me. If you ask me I will say that thing and if you ask Salman he will say same thing. I think it is out of respect.\\n\\nTags: biggest, entertainment, khan, who\\n\\nQuestion: Who’s The Biggest Khan In Bollywood? He Is\\n\\nAnswer:'"
      ]
     },
     "execution_count": 12,
     "metadata": {},
     "output_type": "execute_result"
    }
   ],
   "source": [
    "prompts[238:][0]"
   ]
  },
  {
   "cell_type": "code",
   "execution_count": null,
   "id": "1b0fd882-47b8-4da5-96c4-ded3ca615dd7",
   "metadata": {
    "execution": {
     "iopub.status.busy": "2023-01-21T19:12:53.506226Z",
     "iopub.status.idle": "2023-01-21T19:12:53.506483Z",
     "shell.execute_reply": "2023-01-21T19:12:53.506372Z",
     "shell.execute_reply.started": "2023-01-21T19:12:53.506360Z"
    },
    "tags": []
   },
   "outputs": [],
   "source": [
    "#Fjern gentagelser fra predictions\n",
    "#Fjern overskrifter fra predictions\n",
    "#Fjern A: fra predictions\n",
    "#Fjern Explanation: fra predictions\n",
    "#Fjern Reasoning: fra predictions"
   ]
  },
  {
   "cell_type": "code",
   "execution_count": null,
   "id": "bd12361f-e642-4cf2-a667-a7d2aba1e9c0",
   "metadata": {},
   "outputs": [],
   "source": []
  },
  {
   "cell_type": "code",
   "execution_count": 77,
   "id": "404f39cf-df80-40f0-8c5f-737014d13c43",
   "metadata": {
    "execution": {
     "iopub.execute_input": "2023-01-23T11:11:21.705030Z",
     "iopub.status.busy": "2023-01-23T11:11:21.704313Z",
     "iopub.status.idle": "2023-01-23T11:11:21.814876Z",
     "shell.execute_reply": "2023-01-23T11:11:21.814084Z",
     "shell.execute_reply.started": "2023-01-23T11:11:21.704970Z"
    },
    "tags": []
   },
   "outputs": [],
   "source": [
    "df = pd.read_json('input.jsonl', lines=True)"
   ]
  },
  {
   "cell_type": "code",
   "execution_count": 78,
   "id": "e14f66a0-a0aa-4f48-b49a-9113d91e847e",
   "metadata": {
    "execution": {
     "iopub.execute_input": "2023-01-23T11:11:32.367740Z",
     "iopub.status.busy": "2023-01-23T11:11:32.367042Z",
     "iopub.status.idle": "2023-01-23T11:11:32.386664Z",
     "shell.execute_reply": "2023-01-23T11:11:32.385812Z",
     "shell.execute_reply.started": "2023-01-23T11:11:32.367686Z"
    },
    "tags": []
   },
   "outputs": [
    {
     "name": "stderr",
     "output_type": "stream",
     "text": [
      "/tmp/ipykernel_393/742884195.py:2: SettingWithCopyWarning: \n",
      "A value is trying to be set on a copy of a slice from a DataFrame.\n",
      "Try using .loc[row_indexer,col_indexer] = value instead\n",
      "\n",
      "See the caveats in the documentation: https://pandas.pydata.org/pandas-docs/stable/user_guide/indexing.html#returning-a-view-versus-a-copy\n",
      "  spoilers['spoiler'] = clean_preds\n"
     ]
    }
   ],
   "source": [
    "spoilers = df[[\"uuid\",\"postId\"]]\n",
    "spoilers['spoiler'] = clean_preds\n",
    "\n",
    "json_output = spoilers.to_json(orient='records', lines=True)\n",
    "\n",
    "with open(f\"{name}.jsonl\", 'w') as f:\n",
    "    f.write(json_output)"
   ]
  },
  {
   "cell_type": "code",
   "execution_count": null,
   "id": "9d1fecca-ad43-4aa9-be3b-72cc3ba5640c",
   "metadata": {
    "execution": {
     "iopub.status.busy": "2023-01-21T20:09:45.361355Z",
     "iopub.status.idle": "2023-01-21T20:09:45.361609Z",
     "shell.execute_reply": "2023-01-21T20:09:45.361480Z",
     "shell.execute_reply.started": "2023-01-21T20:09:45.361468Z"
    },
    "tags": []
   },
   "outputs": [],
   "source": [
    "!python3 evaluation.py --input_run test_output.jsonl --task 2 --ground_truth_spoilers validation.jsonl --output_prototext output.txt"
   ]
  },
  {
   "cell_type": "code",
   "execution_count": 80,
   "id": "785bd270-e43e-4549-959f-4b1f1d5bc867",
   "metadata": {
    "execution": {
     "iopub.execute_input": "2023-01-23T11:11:49.166617Z",
     "iopub.status.busy": "2023-01-23T11:11:49.165984Z",
     "iopub.status.idle": "2023-01-23T11:11:49.183454Z",
     "shell.execute_reply": "2023-01-23T11:11:49.182746Z",
     "shell.execute_reply.started": "2023-01-23T11:11:49.166577Z"
    },
    "tags": []
   },
   "outputs": [
    {
     "data": {
      "text/html": [
       "<div>\n",
       "<style scoped>\n",
       "    .dataframe tbody tr th:only-of-type {\n",
       "        vertical-align: middle;\n",
       "    }\n",
       "\n",
       "    .dataframe tbody tr th {\n",
       "        vertical-align: top;\n",
       "    }\n",
       "\n",
       "    .dataframe thead th {\n",
       "        text-align: right;\n",
       "    }\n",
       "</style>\n",
       "<table border=\"1\" class=\"dataframe\">\n",
       "  <thead>\n",
       "    <tr style=\"text-align: right;\">\n",
       "      <th></th>\n",
       "      <th>uuid</th>\n",
       "      <th>postId</th>\n",
       "      <th>spoiler</th>\n",
       "    </tr>\n",
       "  </thead>\n",
       "  <tbody>\n",
       "    <tr>\n",
       "      <th>0</th>\n",
       "      <td>2f3e30d7-972c-4812-b727-6b582de52137</td>\n",
       "      <td>420585068076101633</td>\n",
       "      <td>[The simple household item that saves lives is...</td>\n",
       "    </tr>\n",
       "    <tr>\n",
       "      <th>1</th>\n",
       "      <td>45425f74-4c0e-420c-aea8-6337ea91e107</td>\n",
       "      <td>4km87q</td>\n",
       "      <td>[Gwyneth Paltrow,  I think the answer is,  Gwy...</td>\n",
       "    </tr>\n",
       "    <tr>\n",
       "      <th>2</th>\n",
       "      <td>2fb84020-cfdb-4b7f-9cfc-b891c306c946</td>\n",
       "      <td>4s4f3b</td>\n",
       "      <td>[The new theory on Hiddleswifts romance is biz...</td>\n",
       "    </tr>\n",
       "    <tr>\n",
       "      <th>3</th>\n",
       "      <td>7cc8b816-a3fe-4b3f-9568-b353f87a3161</td>\n",
       "      <td>429398501613895680</td>\n",
       "      <td>[JaVale McGee,  JaVale McGee]</td>\n",
       "    </tr>\n",
       "    <tr>\n",
       "      <th>4</th>\n",
       "      <td>b90a7343-ab27-4750-8e12-43f3f03fc9e5</td>\n",
       "      <td>828292353706176512</td>\n",
       "      <td>[Alex Owens-Sarno,  The title of the article i...</td>\n",
       "    </tr>\n",
       "    <tr>\n",
       "      <th>...</th>\n",
       "      <td>...</td>\n",
       "      <td>...</td>\n",
       "      <td>...</td>\n",
       "    </tr>\n",
       "    <tr>\n",
       "      <th>995</th>\n",
       "      <td>9615b028-fa90-4bb6-9708-9d59d3cee08b</td>\n",
       "      <td>54zmeg</td>\n",
       "      <td>[All Along the Watchtower,  The song is a cove...</td>\n",
       "    </tr>\n",
       "    <tr>\n",
       "      <th>996</th>\n",
       "      <td>74e4c92c-3583-4c80-b726-36f1fe63f8c9</td>\n",
       "      <td>738816406091923456</td>\n",
       "      <td>[I think the answer is that the article is a s...</td>\n",
       "    </tr>\n",
       "    <tr>\n",
       "      <th>997</th>\n",
       "      <td>c5ec6cc8-46b6-4ac6-a7ee-d891fb8938b7</td>\n",
       "      <td>518772848010461184</td>\n",
       "      <td>[A blood moon is coming Oct. 8 -- and heres ho...</td>\n",
       "    </tr>\n",
       "    <tr>\n",
       "      <th>998</th>\n",
       "      <td>a202e079-0fae-4fde-8d89-ed6be2adc17a</td>\n",
       "      <td>412608279760879616</td>\n",
       "      <td>[Tami Erin,  I think the answer is,  Tami Erin...</td>\n",
       "    </tr>\n",
       "    <tr>\n",
       "      <th>999</th>\n",
       "      <td>2c8ce9f1-8571-4bc5-9ede-a86f14dbb16f</td>\n",
       "      <td>705553853236781056</td>\n",
       "      <td>[I think the answer is celery.]</td>\n",
       "    </tr>\n",
       "  </tbody>\n",
       "</table>\n",
       "<p>1000 rows × 3 columns</p>\n",
       "</div>"
      ],
      "text/plain": [
       "                                     uuid              postId  \\\n",
       "0    2f3e30d7-972c-4812-b727-6b582de52137  420585068076101633   \n",
       "1    45425f74-4c0e-420c-aea8-6337ea91e107              4km87q   \n",
       "2    2fb84020-cfdb-4b7f-9cfc-b891c306c946              4s4f3b   \n",
       "3    7cc8b816-a3fe-4b3f-9568-b353f87a3161  429398501613895680   \n",
       "4    b90a7343-ab27-4750-8e12-43f3f03fc9e5  828292353706176512   \n",
       "..                                    ...                 ...   \n",
       "995  9615b028-fa90-4bb6-9708-9d59d3cee08b              54zmeg   \n",
       "996  74e4c92c-3583-4c80-b726-36f1fe63f8c9  738816406091923456   \n",
       "997  c5ec6cc8-46b6-4ac6-a7ee-d891fb8938b7  518772848010461184   \n",
       "998  a202e079-0fae-4fde-8d89-ed6be2adc17a  412608279760879616   \n",
       "999  2c8ce9f1-8571-4bc5-9ede-a86f14dbb16f  705553853236781056   \n",
       "\n",
       "                                               spoiler  \n",
       "0    [The simple household item that saves lives is...  \n",
       "1    [Gwyneth Paltrow,  I think the answer is,  Gwy...  \n",
       "2    [The new theory on Hiddleswifts romance is biz...  \n",
       "3                        [JaVale McGee,  JaVale McGee]  \n",
       "4    [Alex Owens-Sarno,  The title of the article i...  \n",
       "..                                                 ...  \n",
       "995  [All Along the Watchtower,  The song is a cove...  \n",
       "996  [I think the answer is that the article is a s...  \n",
       "997  [A blood moon is coming Oct. 8 -- and heres ho...  \n",
       "998  [Tami Erin,  I think the answer is,  Tami Erin...  \n",
       "999                    [I think the answer is celery.]  \n",
       "\n",
       "[1000 rows x 3 columns]"
      ]
     },
     "execution_count": 80,
     "metadata": {},
     "output_type": "execute_result"
    }
   ],
   "source": []
  },
  {
   "cell_type": "code",
   "execution_count": 17,
   "id": "50c22012-58b4-4fb2-94af-c70819a85936",
   "metadata": {
    "execution": {
     "iopub.execute_input": "2023-02-17T09:48:54.552295Z",
     "iopub.status.busy": "2023-02-17T09:48:54.551627Z",
     "iopub.status.idle": "2023-02-17T09:48:54.568245Z",
     "shell.execute_reply": "2023-02-17T09:48:54.567408Z",
     "shell.execute_reply.started": "2023-02-17T09:48:54.552235Z"
    },
    "tags": []
   },
   "outputs": [],
   "source": [
    "with open(\"spoilers BLOOM 179.txt\", 'r', encoding='utf-8') as f:\n",
    "    predictions = [line.strip('\\n').strip('[]\"\\'').split(',') for line in f]\n",
    "\n",
    "clean_preds = []\n",
    "for preds in predictions:\n",
    "    tmp_preds = []\n",
    "    for pred in preds:\n",
    "        pred = pred.replace('\"','')\n",
    "        pred = pred.replace(\"'\",'')\n",
    "        pred = pred.replace(\"\\\\\",'')\n",
    "        tmp_preds.append(pred)\n",
    "    clean_preds.append(tmp_preds)\n"
   ]
  },
  {
   "cell_type": "code",
   "execution_count": 28,
   "id": "34492df6-6777-4bde-b9e0-f0d4366d431b",
   "metadata": {
    "execution": {
     "iopub.execute_input": "2023-02-17T09:51:13.594175Z",
     "iopub.status.busy": "2023-02-17T09:51:13.593517Z",
     "iopub.status.idle": "2023-02-17T09:51:13.682866Z",
     "shell.execute_reply": "2023-02-17T09:51:13.682099Z",
     "shell.execute_reply.started": "2023-02-17T09:51:13.594118Z"
    },
    "tags": []
   },
   "outputs": [
    {
     "name": "stderr",
     "output_type": "stream",
     "text": [
      "/tmp/ipykernel_134/1262970620.py:4: SettingWithCopyWarning: \n",
      "A value is trying to be set on a copy of a slice from a DataFrame.\n",
      "Try using .loc[row_indexer,col_indexer] = value instead\n",
      "\n",
      "See the caveats in the documentation: https://pandas.pydata.org/pandas-docs/stable/user_guide/indexing.html#returning-a-view-versus-a-copy\n",
      "  spoilers['spoiler'] = clean_preds\n"
     ]
    }
   ],
   "source": [
    "df = pd.read_json('validation.jsonl', lines=True)\n",
    "\n",
    "spoilers = df[[\"uuid\",\"postId\"]]\n",
    "spoilers['spoiler'] = clean_preds\n",
    "\n",
    "json_output = spoilers.to_json(orient='records', lines=True)\n",
    "\n",
    "with open(f\"{name}.jsonl\", 'w') as f:\n",
    "    f.write(json_output)"
   ]
  },
  {
   "cell_type": "code",
   "execution_count": 21,
   "id": "21c85050-b044-426d-9ad9-b52a5a455820",
   "metadata": {
    "execution": {
     "iopub.execute_input": "2023-02-17T09:50:00.287212Z",
     "iopub.status.busy": "2023-02-17T09:50:00.286291Z",
     "iopub.status.idle": "2023-02-17T09:50:00.298937Z",
     "shell.execute_reply": "2023-02-17T09:50:00.298120Z",
     "shell.execute_reply.started": "2023-02-17T09:50:00.287131Z"
    },
    "tags": []
   },
   "outputs": [
    {
     "data": {
      "text/plain": [
       "1600"
      ]
     },
     "execution_count": 21,
     "metadata": {},
     "output_type": "execute_result"
    }
   ],
   "source": [
    "len(clean_preds)"
   ]
  },
  {
   "cell_type": "code",
   "execution_count": 25,
   "id": "9af59ae0-1a57-4470-b7e8-241513d6ceb9",
   "metadata": {
    "execution": {
     "iopub.execute_input": "2023-02-17T09:51:00.559851Z",
     "iopub.status.busy": "2023-02-17T09:51:00.558722Z",
     "iopub.status.idle": "2023-02-17T09:51:00.566208Z",
     "shell.execute_reply": "2023-02-17T09:51:00.564984Z",
     "shell.execute_reply.started": "2023-02-17T09:51:00.559791Z"
    },
    "tags": []
   },
   "outputs": [],
   "source": [
    "t = []\n",
    "for i in range(1,1600,2):\n",
    "    t.append(clean_preds[i])"
   ]
  },
  {
   "cell_type": "code",
   "execution_count": 27,
   "id": "bccadf7d-cbe9-4876-a794-18013a121660",
   "metadata": {
    "execution": {
     "iopub.execute_input": "2023-02-17T09:51:11.244895Z",
     "iopub.status.busy": "2023-02-17T09:51:11.244214Z",
     "iopub.status.idle": "2023-02-17T09:51:11.253601Z",
     "shell.execute_reply": "2023-02-17T09:51:11.252036Z",
     "shell.execute_reply.started": "2023-02-17T09:51:11.244837Z"
    },
    "tags": []
   },
   "outputs": [],
   "source": [
    "clean_preds = t"
   ]
  },
  {
   "cell_type": "code",
   "execution_count": null,
   "id": "ffcb435c-ea6f-4d3d-8559-86a80b11f5e8",
   "metadata": {},
   "outputs": [],
   "source": []
  }
 ],
 "metadata": {
  "kernelspec": {
   "display_name": "Python 3 ",
   "language": "python",
   "name": "python3"
  },
  "language_info": {
   "codemirror_mode": {
    "name": "ipython",
    "version": 3
   },
   "file_extension": ".py",
   "mimetype": "text/x-python",
   "name": "python",
   "nbconvert_exporter": "python",
   "pygments_lexer": "ipython3",
   "version": "3.10.8"
  }
 },
 "nbformat": 4,
 "nbformat_minor": 5
}
